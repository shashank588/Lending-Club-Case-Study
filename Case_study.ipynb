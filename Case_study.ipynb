{
 "cells": [
  {
   "cell_type": "markdown",
   "metadata": {},
   "source": [
    "# Lending Club Case Study"
   ]
  },
  {
   "cell_type": "markdown",
   "metadata": {},
   "source": [
    "## 1. Business Objective<br>\n",
    "Lending club is the largest online loan marketplace, facilitating personal loans, business loans, and financing of medical procedures. Borrowers can easily access lower interest rate loans through a fast online interface.<br>\n",
    "\n",
    "Like most other lending companies, lending loans to ‘risky’ applicants is the largest source of financial loss (called credit loss). The credit loss is the amount of money lost by the lender when the borrower refuses to pay or runs away with the money owed. In other words, borrowers who default cause the largest amount of loss to the lenders. In this case, the customers labelled as 'charged-off' are the 'defaulters'.<br>\n",
    "\n",
    "So the company wants to understand the driving factors (or driver variables) behind loan default, i.e. the variables which are strong indicators of default.  The company can utilise this knowledge for its portfolio and risk assessment.\n"
   ]
  },
  {
   "cell_type": "code",
   "execution_count": 1,
   "metadata": {},
   "outputs": [],
   "source": [
    "#Importing requiried libraries.\n",
    "import pandas as pd\n",
    "import numpy as np\n",
    "import matplotlib.pyplot as plt\n",
    "import seaborn as sns"
   ]
  },
  {
   "cell_type": "markdown",
   "metadata": {},
   "source": [
    "## 2. Data understanding"
   ]
  },
  {
   "cell_type": "code",
   "execution_count": 2,
   "metadata": {},
   "outputs": [
    {
     "data": {
      "text/html": [
       "<div>\n",
       "<style scoped>\n",
       "    .dataframe tbody tr th:only-of-type {\n",
       "        vertical-align: middle;\n",
       "    }\n",
       "\n",
       "    .dataframe tbody tr th {\n",
       "        vertical-align: top;\n",
       "    }\n",
       "\n",
       "    .dataframe thead th {\n",
       "        text-align: right;\n",
       "    }\n",
       "</style>\n",
       "<table border=\"1\" class=\"dataframe\">\n",
       "  <thead>\n",
       "    <tr style=\"text-align: right;\">\n",
       "      <th></th>\n",
       "      <th>id</th>\n",
       "      <th>member_id</th>\n",
       "      <th>loan_amnt</th>\n",
       "      <th>funded_amnt</th>\n",
       "      <th>funded_amnt_inv</th>\n",
       "      <th>term</th>\n",
       "      <th>int_rate</th>\n",
       "      <th>installment</th>\n",
       "      <th>grade</th>\n",
       "      <th>sub_grade</th>\n",
       "      <th>...</th>\n",
       "      <th>num_tl_90g_dpd_24m</th>\n",
       "      <th>num_tl_op_past_12m</th>\n",
       "      <th>pct_tl_nvr_dlq</th>\n",
       "      <th>percent_bc_gt_75</th>\n",
       "      <th>pub_rec_bankruptcies</th>\n",
       "      <th>tax_liens</th>\n",
       "      <th>tot_hi_cred_lim</th>\n",
       "      <th>total_bal_ex_mort</th>\n",
       "      <th>total_bc_limit</th>\n",
       "      <th>total_il_high_credit_limit</th>\n",
       "    </tr>\n",
       "  </thead>\n",
       "  <tbody>\n",
       "    <tr>\n",
       "      <th>0</th>\n",
       "      <td>1077501</td>\n",
       "      <td>1296599</td>\n",
       "      <td>5000</td>\n",
       "      <td>5000</td>\n",
       "      <td>4975.0</td>\n",
       "      <td>36 months</td>\n",
       "      <td>10.65%</td>\n",
       "      <td>162.87</td>\n",
       "      <td>B</td>\n",
       "      <td>B2</td>\n",
       "      <td>...</td>\n",
       "      <td>NaN</td>\n",
       "      <td>NaN</td>\n",
       "      <td>NaN</td>\n",
       "      <td>NaN</td>\n",
       "      <td>0.0</td>\n",
       "      <td>0.0</td>\n",
       "      <td>NaN</td>\n",
       "      <td>NaN</td>\n",
       "      <td>NaN</td>\n",
       "      <td>NaN</td>\n",
       "    </tr>\n",
       "    <tr>\n",
       "      <th>1</th>\n",
       "      <td>1077430</td>\n",
       "      <td>1314167</td>\n",
       "      <td>2500</td>\n",
       "      <td>2500</td>\n",
       "      <td>2500.0</td>\n",
       "      <td>60 months</td>\n",
       "      <td>15.27%</td>\n",
       "      <td>59.83</td>\n",
       "      <td>C</td>\n",
       "      <td>C4</td>\n",
       "      <td>...</td>\n",
       "      <td>NaN</td>\n",
       "      <td>NaN</td>\n",
       "      <td>NaN</td>\n",
       "      <td>NaN</td>\n",
       "      <td>0.0</td>\n",
       "      <td>0.0</td>\n",
       "      <td>NaN</td>\n",
       "      <td>NaN</td>\n",
       "      <td>NaN</td>\n",
       "      <td>NaN</td>\n",
       "    </tr>\n",
       "    <tr>\n",
       "      <th>2</th>\n",
       "      <td>1077175</td>\n",
       "      <td>1313524</td>\n",
       "      <td>2400</td>\n",
       "      <td>2400</td>\n",
       "      <td>2400.0</td>\n",
       "      <td>36 months</td>\n",
       "      <td>15.96%</td>\n",
       "      <td>84.33</td>\n",
       "      <td>C</td>\n",
       "      <td>C5</td>\n",
       "      <td>...</td>\n",
       "      <td>NaN</td>\n",
       "      <td>NaN</td>\n",
       "      <td>NaN</td>\n",
       "      <td>NaN</td>\n",
       "      <td>0.0</td>\n",
       "      <td>0.0</td>\n",
       "      <td>NaN</td>\n",
       "      <td>NaN</td>\n",
       "      <td>NaN</td>\n",
       "      <td>NaN</td>\n",
       "    </tr>\n",
       "    <tr>\n",
       "      <th>3</th>\n",
       "      <td>1076863</td>\n",
       "      <td>1277178</td>\n",
       "      <td>10000</td>\n",
       "      <td>10000</td>\n",
       "      <td>10000.0</td>\n",
       "      <td>36 months</td>\n",
       "      <td>13.49%</td>\n",
       "      <td>339.31</td>\n",
       "      <td>C</td>\n",
       "      <td>C1</td>\n",
       "      <td>...</td>\n",
       "      <td>NaN</td>\n",
       "      <td>NaN</td>\n",
       "      <td>NaN</td>\n",
       "      <td>NaN</td>\n",
       "      <td>0.0</td>\n",
       "      <td>0.0</td>\n",
       "      <td>NaN</td>\n",
       "      <td>NaN</td>\n",
       "      <td>NaN</td>\n",
       "      <td>NaN</td>\n",
       "    </tr>\n",
       "    <tr>\n",
       "      <th>4</th>\n",
       "      <td>1075358</td>\n",
       "      <td>1311748</td>\n",
       "      <td>3000</td>\n",
       "      <td>3000</td>\n",
       "      <td>3000.0</td>\n",
       "      <td>60 months</td>\n",
       "      <td>12.69%</td>\n",
       "      <td>67.79</td>\n",
       "      <td>B</td>\n",
       "      <td>B5</td>\n",
       "      <td>...</td>\n",
       "      <td>NaN</td>\n",
       "      <td>NaN</td>\n",
       "      <td>NaN</td>\n",
       "      <td>NaN</td>\n",
       "      <td>0.0</td>\n",
       "      <td>0.0</td>\n",
       "      <td>NaN</td>\n",
       "      <td>NaN</td>\n",
       "      <td>NaN</td>\n",
       "      <td>NaN</td>\n",
       "    </tr>\n",
       "  </tbody>\n",
       "</table>\n",
       "<p>5 rows × 111 columns</p>\n",
       "</div>"
      ],
      "text/plain": [
       "        id  member_id  loan_amnt  funded_amnt  funded_amnt_inv        term  \\\n",
       "0  1077501    1296599       5000         5000           4975.0   36 months   \n",
       "1  1077430    1314167       2500         2500           2500.0   60 months   \n",
       "2  1077175    1313524       2400         2400           2400.0   36 months   \n",
       "3  1076863    1277178      10000        10000          10000.0   36 months   \n",
       "4  1075358    1311748       3000         3000           3000.0   60 months   \n",
       "\n",
       "  int_rate  installment grade sub_grade  ... num_tl_90g_dpd_24m  \\\n",
       "0   10.65%       162.87     B        B2  ...                NaN   \n",
       "1   15.27%        59.83     C        C4  ...                NaN   \n",
       "2   15.96%        84.33     C        C5  ...                NaN   \n",
       "3   13.49%       339.31     C        C1  ...                NaN   \n",
       "4   12.69%        67.79     B        B5  ...                NaN   \n",
       "\n",
       "  num_tl_op_past_12m pct_tl_nvr_dlq  percent_bc_gt_75 pub_rec_bankruptcies  \\\n",
       "0                NaN            NaN               NaN                  0.0   \n",
       "1                NaN            NaN               NaN                  0.0   \n",
       "2                NaN            NaN               NaN                  0.0   \n",
       "3                NaN            NaN               NaN                  0.0   \n",
       "4                NaN            NaN               NaN                  0.0   \n",
       "\n",
       "  tax_liens tot_hi_cred_lim total_bal_ex_mort total_bc_limit  \\\n",
       "0       0.0             NaN               NaN            NaN   \n",
       "1       0.0             NaN               NaN            NaN   \n",
       "2       0.0             NaN               NaN            NaN   \n",
       "3       0.0             NaN               NaN            NaN   \n",
       "4       0.0             NaN               NaN            NaN   \n",
       "\n",
       "  total_il_high_credit_limit  \n",
       "0                        NaN  \n",
       "1                        NaN  \n",
       "2                        NaN  \n",
       "3                        NaN  \n",
       "4                        NaN  \n",
       "\n",
       "[5 rows x 111 columns]"
      ]
     },
     "execution_count": 2,
     "metadata": {},
     "output_type": "execute_result"
    }
   ],
   "source": [
    "#importing Data set\n",
    "loan = pd.read_csv(\"loan.csv\", encoding='ISO-8859-1', low_memory=False)\n",
    "loan.head()"
   ]
  },
  {
   "cell_type": "code",
   "execution_count": 3,
   "metadata": {},
   "outputs": [
    {
     "name": "stdout",
     "output_type": "stream",
     "text": [
      "Total numbers rows are  39717\n",
      "Total numbers features are  111\n"
     ]
    }
   ],
   "source": [
    "loan.shape\n",
    "print('Total numbers rows are ', loan.shape[0])\n",
    "print('Total numbers features are ', loan.shape[1])"
   ]
  },
  {
   "cell_type": "code",
   "execution_count": 4,
   "metadata": {},
   "outputs": [
    {
     "name": "stdout",
     "output_type": "stream",
     "text": [
      "<class 'pandas.core.frame.DataFrame'>\n",
      "RangeIndex: 39717 entries, 0 to 39716\n",
      "Columns: 111 entries, id to total_il_high_credit_limit\n",
      "dtypes: float64(74), int64(13), object(24)\n",
      "memory usage: 33.6+ MB\n"
     ]
    }
   ],
   "source": [
    "loan.info()"
   ]
  },
  {
   "cell_type": "code",
   "execution_count": 5,
   "metadata": {},
   "outputs": [
    {
     "data": {
      "text/plain": [
       "Index(['id', 'member_id', 'loan_amnt', 'funded_amnt', 'funded_amnt_inv',\n",
       "       'term', 'int_rate', 'installment', 'grade', 'sub_grade',\n",
       "       ...\n",
       "       'num_tl_90g_dpd_24m', 'num_tl_op_past_12m', 'pct_tl_nvr_dlq',\n",
       "       'percent_bc_gt_75', 'pub_rec_bankruptcies', 'tax_liens',\n",
       "       'tot_hi_cred_lim', 'total_bal_ex_mort', 'total_bc_limit',\n",
       "       'total_il_high_credit_limit'],\n",
       "      dtype='object', length=111)"
      ]
     },
     "execution_count": 5,
     "metadata": {},
     "output_type": "execute_result"
    }
   ],
   "source": [
    "#columns in loan dataset\n",
    "loan.columns"
   ]
  },
  {
   "cell_type": "markdown",
   "metadata": {},
   "source": [
    " ## 3. Data Cleaning"
   ]
  },
  {
   "cell_type": "code",
   "execution_count": 6,
   "metadata": {},
   "outputs": [
    {
     "data": {
      "text/plain": [
       "(39717, 57)"
      ]
     },
     "execution_count": 6,
     "metadata": {},
     "output_type": "execute_result"
    }
   ],
   "source": [
    "#Dropping columns which contain all null values\n",
    "loan.dropna(axis=1, how = 'all', inplace= True )\n",
    "loan.shape"
   ]
  },
  {
   "cell_type": "code",
   "execution_count": 7,
   "metadata": {},
   "outputs": [
    {
     "data": {
      "text/plain": [
       "False"
      ]
     },
     "execution_count": 7,
     "metadata": {},
     "output_type": "execute_result"
    }
   ],
   "source": [
    "#Validating > 10 null values across rows\n",
    "(loan.isna().sum(axis=1) > 10).any()"
   ]
  },
  {
   "cell_type": "code",
   "execution_count": 8,
   "metadata": {},
   "outputs": [
    {
     "data": {
      "text/plain": [
       "3"
      ]
     },
     "execution_count": 8,
     "metadata": {},
     "output_type": "execute_result"
    }
   ],
   "source": [
    "#Number of columns have more 50% missing values\n",
    "sum((loan.isnull().sum()/len(loan))*100 >= 50)"
   ]
  },
  {
   "cell_type": "code",
   "execution_count": 9,
   "metadata": {},
   "outputs": [
    {
     "data": {
      "text/plain": [
       "(39717, 54)"
      ]
     },
     "execution_count": 9,
     "metadata": {},
     "output_type": "execute_result"
    }
   ],
   "source": [
    "#Removing columns with > 50 % null values\n",
    "loan.drop(['mths_since_last_delinq', 'mths_since_last_record', 'next_pymnt_d'], inplace = True, axis = 1)\n",
    "loan.shape"
   ]
  },
  {
   "cell_type": "markdown",
   "metadata": {},
   "source": [
    "**Removing  columns having  same data throughout and which are not for analysis**"
   ]
  },
  {
   "cell_type": "code",
   "execution_count": 10,
   "metadata": {},
   "outputs": [],
   "source": [
    "columns = ['member_id','id','funded_amnt_inv','pymnt_plan', 'url', 'desc','title', 'zip_code','earliest_cr_line','revol_bal',\n",
    "           'initial_list_status','out_prncp', 'out_prncp_inv', 'total_pymnt', 'total_pymnt_inv','total_rec_prncp',\n",
    "          'total_rec_int', 'total_rec_late_fee', 'recoveries','collection_recovery_fee', 'last_pymnt_d', 'last_pymnt_amnt',\n",
    "          'last_credit_pull_d', 'collections_12_mths_ex_med', 'policy_code','application_type', 'acc_now_delinq',\n",
    "          'chargeoff_within_12_mths','delinq_amnt','tax_liens','total_acc',]"
   ]
  },
  {
   "cell_type": "code",
   "execution_count": 11,
   "metadata": {},
   "outputs": [
    {
     "data": {
      "text/plain": [
       "(39717, 23)"
      ]
     },
     "execution_count": 11,
     "metadata": {},
     "output_type": "execute_result"
    }
   ],
   "source": [
    "loan.drop(columns, inplace = True, axis = 1)\n",
    "loan.shape"
   ]
  },
  {
   "cell_type": "code",
   "execution_count": 12,
   "metadata": {},
   "outputs": [
    {
     "data": {
      "text/plain": [
       "Index(['loan_amnt', 'funded_amnt', 'term', 'int_rate', 'installment', 'grade',\n",
       "       'sub_grade', 'emp_title', 'emp_length', 'home_ownership', 'annual_inc',\n",
       "       'verification_status', 'issue_d', 'loan_status', 'purpose',\n",
       "       'addr_state', 'dti', 'delinq_2yrs', 'inq_last_6mths', 'open_acc',\n",
       "       'pub_rec', 'revol_util', 'pub_rec_bankruptcies'],\n",
       "      dtype='object')"
      ]
     },
     "execution_count": 12,
     "metadata": {},
     "output_type": "execute_result"
    }
   ],
   "source": [
    "loan.columns"
   ]
  },
  {
   "cell_type": "code",
   "execution_count": 13,
   "metadata": {},
   "outputs": [
    {
     "data": {
      "text/plain": [
       "loan_amnt               0.00\n",
       "funded_amnt             0.00\n",
       "term                    0.00\n",
       "int_rate                0.00\n",
       "installment             0.00\n",
       "grade                   0.00\n",
       "sub_grade               0.00\n",
       "emp_title               6.19\n",
       "emp_length              2.71\n",
       "home_ownership          0.00\n",
       "annual_inc              0.00\n",
       "verification_status     0.00\n",
       "issue_d                 0.00\n",
       "loan_status             0.00\n",
       "purpose                 0.00\n",
       "addr_state              0.00\n",
       "dti                     0.00\n",
       "delinq_2yrs             0.00\n",
       "inq_last_6mths          0.00\n",
       "open_acc                0.00\n",
       "pub_rec                 0.00\n",
       "revol_util              0.13\n",
       "pub_rec_bankruptcies    1.75\n",
       "dtype: float64"
      ]
     },
     "execution_count": 13,
     "metadata": {},
     "output_type": "execute_result"
    }
   ],
   "source": [
    "#Percentahe of null values in column\n",
    "round((loan.isnull().sum()/len(loan))*100,2)"
   ]
  },
  {
   "cell_type": "code",
   "execution_count": 14,
   "metadata": {
    "scrolled": true
   },
   "outputs": [
    {
     "data": {
      "text/plain": [
       "0    91.91\n",
       "1     5.42\n",
       "2     2.67\n",
       "3     0.01\n",
       "dtype: float64"
      ]
     },
     "execution_count": 14,
     "metadata": {},
     "output_type": "execute_result"
    }
   ],
   "source": [
    "#looking for missing values row wise \n",
    "round(loan.isnull().sum(axis = 1).value_counts(normalize = True)*100,2)"
   ]
  },
  {
   "cell_type": "markdown",
   "metadata": {},
   "source": [
    "So There are 92% rows with out null values, 5.3% rows with one missing value and 2.67% rows with two missing values. As missing value count is very small those values can be imputed column wise."
   ]
  },
  {
   "cell_type": "markdown",
   "metadata": {},
   "source": [
    "**Get all categories of loan status**"
   ]
  },
  {
   "cell_type": "code",
   "execution_count": 15,
   "metadata": {
    "scrolled": true
   },
   "outputs": [
    {
     "data": {
      "text/plain": [
       "Fully Paid     32950\n",
       "Charged Off     5627\n",
       "Current         1140\n",
       "Name: loan_status, dtype: int64"
      ]
     },
     "execution_count": 15,
     "metadata": {},
     "output_type": "execute_result"
    }
   ],
   "source": [
    "loan.loan_status.value_counts()"
   ]
  },
  {
   "cell_type": "markdown",
   "metadata": {},
   "source": [
    "**Excluding records having loan_status == 'Current' as we dont know the final status of loan for these records**"
   ]
  },
  {
   "cell_type": "code",
   "execution_count": 16,
   "metadata": {},
   "outputs": [
    {
     "data": {
      "text/plain": [
       "(38577, 23)"
      ]
     },
     "execution_count": 16,
     "metadata": {},
     "output_type": "execute_result"
    }
   ],
   "source": [
    "loan = loan[~(loan.loan_status == 'Current')]\n",
    "loan.shape"
   ]
  },
  {
   "cell_type": "markdown",
   "metadata": {},
   "source": [
    "**Removing % from revol_util imputing with median value as distribution is normal**"
   ]
  },
  {
   "cell_type": "code",
   "execution_count": 17,
   "metadata": {},
   "outputs": [
    {
     "data": {
      "text/plain": [
       "Text(0.5, 1.0, 'Distribition of Revolving line utilization rate')"
      ]
     },
     "execution_count": 17,
     "metadata": {},
     "output_type": "execute_result"
    },
    {
     "data": {
      "image/png": "[encoded data removed]",
      "text/plain": [
       "<Figure size 216x360 with 1 Axes>"
      ]
     },
     "metadata": {
      "needs_background": "light"
     },
     "output_type": "display_data"
    }
   ],
   "source": [
    "loan['revol_util'] = loan.revol_util.apply(lambda x : str(x).strip(\"%\") if str(x).endswith(\"%\") else x).astype('float')\n",
    "plt.figure(figsize = [3,5])\n",
    "sns.boxplot(y = loan.revol_util)\n",
    "plt.title('Distribition of Revolving line utilization rate')"
   ]
  },
  {
   "cell_type": "code",
   "execution_count": 18,
   "metadata": {},
   "outputs": [],
   "source": [
    "loan['revol_util'] = loan['revol_util'].fillna(loan['revol_util'].median())"
   ]
  },
  {
   "cell_type": "markdown",
   "metadata": {},
   "source": [
    "**Slabs for all categories <Br><Br>**\n",
    "    `VL : Very low [0-20%], L  : Low [20-40%], M  : Medium [40-60%], H  : High [60-80%], VH : Very High [80-100%]`"
   ]
  },
  {
   "cell_type": "markdown",
   "metadata": {},
   "source": [
    "**Removing % from int_rate and adding int_slab column for different categories of int_rate**"
   ]
  },
  {
   "cell_type": "code",
   "execution_count": 19,
   "metadata": {},
   "outputs": [],
   "source": [
    "loan['int_rate'] = loan.int_rate.apply(lambda x : str(x).strip(\"%\") if str(x).endswith(\"%\") else x).astype('float')\n",
    "loan['int_slab'] = pd.qcut(loan.int_rate, q = [0, 0.2, 0.4, 0.6, 0.8, 1], labels=['VL', 'L', 'M','H', 'VH'])"
   ]
  },
  {
   "cell_type": "markdown",
   "metadata": {},
   "source": [
    "**Adding loan_amnt_slab column**"
   ]
  },
  {
   "cell_type": "code",
   "execution_count": 20,
   "metadata": {},
   "outputs": [],
   "source": [
    "loan['loan_amnt_slab'] = pd.qcut(loan.loan_amnt, q = [0, 0.2, 0.4, 0.6, 0.8, 1], labels=['VL', 'L', 'M','H', 'VH'])"
   ]
  },
  {
   "cell_type": "markdown",
   "metadata": {},
   "source": [
    "**Adding dti_slab column**"
   ]
  },
  {
   "cell_type": "code",
   "execution_count": 21,
   "metadata": {},
   "outputs": [],
   "source": [
    "loan['dti_slab'] = pd.qcut(loan.dti, q = [0, 0.2, 0.4, 0.6, 0.8, 1], labels=['VL', 'L', 'M','H', 'VH'])"
   ]
  },
  {
   "cell_type": "markdown",
   "metadata": {},
   "source": [
    "**Adding Anual income slab**"
   ]
  },
  {
   "cell_type": "code",
   "execution_count": 22,
   "metadata": {},
   "outputs": [],
   "source": [
    "loan['annual_inc_slab'] = pd.qcut(loan.annual_inc, q = [0, 0.2, 0.4, 0.6, 0.8, 1], labels=['VL', 'L', 'M','H', 'VH'])"
   ]
  },
  {
   "cell_type": "markdown",
   "metadata": {},
   "source": [
    "**Adding open_acc slab**"
   ]
  },
  {
   "cell_type": "code",
   "execution_count": 23,
   "metadata": {},
   "outputs": [],
   "source": [
    "loan['open_acc_slab'] = pd.qcut(loan.open_acc, q = [0, 0.2, 0.4, 0.6, 0.8, 1], labels=['VL', 'L', 'M','H', 'VH'])"
   ]
  },
  {
   "cell_type": "markdown",
   "metadata": {},
   "source": [
    "**Approximating emp_length value to its nearest value**"
   ]
  },
  {
   "cell_type": "code",
   "execution_count": 24,
   "metadata": {},
   "outputs": [],
   "source": [
    "def approximate_emp_lenth(input_str):\n",
    "    \"This function accept string & return approximated employement length\"\n",
    "    emp_length = input_str.split(' year')[0]\n",
    "    if \"<\" in emp_length:\n",
    "        return float(emp_length.strip(\" < \")) - 0.4\n",
    "    elif \"+\" in emp_length:\n",
    "        return float(emp_length.strip(\" + \")) + 0.4\n",
    "    else:\n",
    "        return float(emp_length)"
   ]
  },
  {
   "cell_type": "code",
   "execution_count": 25,
   "metadata": {},
   "outputs": [],
   "source": [
    "loan['emp_length'] = loan.emp_length.apply(lambda x : approximate_emp_lenth(x) if isinstance(x, str) else x)"
   ]
  },
  {
   "cell_type": "code",
   "execution_count": 26,
   "metadata": {},
   "outputs": [
    {
     "data": {
      "text/plain": [
       "0        10.4\n",
       "1         0.6\n",
       "2        10.4\n",
       "3        10.4\n",
       "5         3.0\n",
       "         ... \n",
       "39712     4.0\n",
       "39713     3.0\n",
       "39714     0.6\n",
       "39715     0.6\n",
       "39716     0.6\n",
       "Name: emp_length, Length: 38577, dtype: float64"
      ]
     },
     "execution_count": 26,
     "metadata": {},
     "output_type": "execute_result"
    }
   ],
   "source": [
    "loan.emp_length"
   ]
  },
  {
   "cell_type": "markdown",
   "metadata": {},
   "source": [
    "**Adding new column issue_month from issue_d, which indicate month at which loan was funded**"
   ]
  },
  {
   "cell_type": "code",
   "execution_count": 27,
   "metadata": {},
   "outputs": [],
   "source": [
    "loan['issue_month'] = loan.issue_d.apply(lambda x : x.split(\"-\")[0])"
   ]
  },
  {
   "cell_type": "markdown",
   "metadata": {},
   "source": [
    "#### Reseting index"
   ]
  },
  {
   "cell_type": "code",
   "execution_count": 28,
   "metadata": {},
   "outputs": [],
   "source": [
    "loan.reset_index(inplace=True, drop=True)"
   ]
  },
  {
   "cell_type": "markdown",
   "metadata": {},
   "source": [
    "**emp_length distribution**"
   ]
  },
  {
   "cell_type": "code",
   "execution_count": 29,
   "metadata": {},
   "outputs": [
    {
     "data": {
      "text/plain": [
       "<AxesSubplot:ylabel='Frequency'>"
      ]
     },
     "execution_count": 29,
     "metadata": {},
     "output_type": "execute_result"
    },
    {
     "data": {
      "image/png": "[encoded data removed]",
      "text/plain": [
       "<Figure size 432x288 with 1 Axes>"
      ]
     },
     "metadata": {
      "needs_background": "light"
     },
     "output_type": "display_data"
    }
   ],
   "source": [
    "loan.emp_length.plot.hist()"
   ]
  },
  {
   "cell_type": "markdown",
   "metadata": {},
   "source": [
    "#### Imputing emp_length with mode as data is right skewed and changing dtype to float"
   ]
  },
  {
   "cell_type": "code",
   "execution_count": 30,
   "metadata": {},
   "outputs": [],
   "source": [
    "loan['emp_length'] = loan['emp_length'].fillna(loan.emp_length.mode()[0])\n",
    "loan['emp_length'] = loan['emp_length'].astype('float')"
   ]
  },
  {
   "cell_type": "markdown",
   "metadata": {},
   "source": [
    "**Imputing pub_rec_bankruptcies with median value**"
   ]
  },
  {
   "cell_type": "code",
   "execution_count": 31,
   "metadata": {},
   "outputs": [],
   "source": [
    "loan['pub_rec_bankruptcies'] = loan['pub_rec_bankruptcies'].fillna(loan.pub_rec_bankruptcies.mode()[0])"
   ]
  },
  {
   "cell_type": "markdown",
   "metadata": {},
   "source": [
    "**Keeping column emp_title as it is , as we dont have correct business data for these column to impute**"
   ]
  },
  {
   "cell_type": "code",
   "execution_count": 32,
   "metadata": {},
   "outputs": [
    {
     "data": {
      "text/plain": [
       "loan_amnt                  0\n",
       "funded_amnt                0\n",
       "term                       0\n",
       "int_rate                   0\n",
       "installment                0\n",
       "grade                      0\n",
       "sub_grade                  0\n",
       "emp_title               2386\n",
       "emp_length                 0\n",
       "home_ownership             0\n",
       "annual_inc                 0\n",
       "verification_status        0\n",
       "issue_d                    0\n",
       "loan_status                0\n",
       "purpose                    0\n",
       "addr_state                 0\n",
       "dti                        0\n",
       "delinq_2yrs                0\n",
       "inq_last_6mths             0\n",
       "open_acc                   0\n",
       "pub_rec                    0\n",
       "revol_util                 0\n",
       "pub_rec_bankruptcies       0\n",
       "int_slab                   0\n",
       "loan_amnt_slab             0\n",
       "dti_slab                   0\n",
       "annual_inc_slab            0\n",
       "open_acc_slab              0\n",
       "issue_month                0\n",
       "dtype: int64"
      ]
     },
     "execution_count": 32,
     "metadata": {},
     "output_type": "execute_result"
    }
   ],
   "source": [
    "loan.isna().sum()"
   ]
  },
  {
   "cell_type": "code",
   "execution_count": 33,
   "metadata": {},
   "outputs": [
    {
     "data": {
      "text/html": [
       "<div>\n",
       "<style scoped>\n",
       "    .dataframe tbody tr th:only-of-type {\n",
       "        vertical-align: middle;\n",
       "    }\n",
       "\n",
       "    .dataframe tbody tr th {\n",
       "        vertical-align: top;\n",
       "    }\n",
       "\n",
       "    .dataframe thead th {\n",
       "        text-align: right;\n",
       "    }\n",
       "</style>\n",
       "<table border=\"1\" class=\"dataframe\">\n",
       "  <thead>\n",
       "    <tr style=\"text-align: right;\">\n",
       "      <th></th>\n",
       "      <th>loan_amnt</th>\n",
       "      <th>funded_amnt</th>\n",
       "      <th>term</th>\n",
       "      <th>int_rate</th>\n",
       "      <th>installment</th>\n",
       "      <th>grade</th>\n",
       "      <th>sub_grade</th>\n",
       "      <th>emp_title</th>\n",
       "      <th>emp_length</th>\n",
       "      <th>home_ownership</th>\n",
       "      <th>...</th>\n",
       "      <th>open_acc</th>\n",
       "      <th>pub_rec</th>\n",
       "      <th>revol_util</th>\n",
       "      <th>pub_rec_bankruptcies</th>\n",
       "      <th>int_slab</th>\n",
       "      <th>loan_amnt_slab</th>\n",
       "      <th>dti_slab</th>\n",
       "      <th>annual_inc_slab</th>\n",
       "      <th>open_acc_slab</th>\n",
       "      <th>issue_month</th>\n",
       "    </tr>\n",
       "  </thead>\n",
       "  <tbody>\n",
       "    <tr>\n",
       "      <th>0</th>\n",
       "      <td>5000</td>\n",
       "      <td>5000</td>\n",
       "      <td>36 months</td>\n",
       "      <td>10.65</td>\n",
       "      <td>162.87</td>\n",
       "      <td>B</td>\n",
       "      <td>B2</td>\n",
       "      <td>NaN</td>\n",
       "      <td>10.4</td>\n",
       "      <td>RENT</td>\n",
       "      <td>...</td>\n",
       "      <td>3</td>\n",
       "      <td>0</td>\n",
       "      <td>83.7</td>\n",
       "      <td>0.0</td>\n",
       "      <td>L</td>\n",
       "      <td>VL</td>\n",
       "      <td>VH</td>\n",
       "      <td>VL</td>\n",
       "      <td>VL</td>\n",
       "      <td>Dec</td>\n",
       "    </tr>\n",
       "    <tr>\n",
       "      <th>1</th>\n",
       "      <td>2500</td>\n",
       "      <td>2500</td>\n",
       "      <td>60 months</td>\n",
       "      <td>15.27</td>\n",
       "      <td>59.83</td>\n",
       "      <td>C</td>\n",
       "      <td>C4</td>\n",
       "      <td>Ryder</td>\n",
       "      <td>0.6</td>\n",
       "      <td>RENT</td>\n",
       "      <td>...</td>\n",
       "      <td>3</td>\n",
       "      <td>0</td>\n",
       "      <td>9.4</td>\n",
       "      <td>0.0</td>\n",
       "      <td>VH</td>\n",
       "      <td>VL</td>\n",
       "      <td>VL</td>\n",
       "      <td>VL</td>\n",
       "      <td>VL</td>\n",
       "      <td>Dec</td>\n",
       "    </tr>\n",
       "    <tr>\n",
       "      <th>2</th>\n",
       "      <td>2400</td>\n",
       "      <td>2400</td>\n",
       "      <td>36 months</td>\n",
       "      <td>15.96</td>\n",
       "      <td>84.33</td>\n",
       "      <td>C</td>\n",
       "      <td>C5</td>\n",
       "      <td>NaN</td>\n",
       "      <td>10.4</td>\n",
       "      <td>RENT</td>\n",
       "      <td>...</td>\n",
       "      <td>2</td>\n",
       "      <td>0</td>\n",
       "      <td>98.5</td>\n",
       "      <td>0.0</td>\n",
       "      <td>VH</td>\n",
       "      <td>VL</td>\n",
       "      <td>L</td>\n",
       "      <td>VL</td>\n",
       "      <td>VL</td>\n",
       "      <td>Dec</td>\n",
       "    </tr>\n",
       "    <tr>\n",
       "      <th>3</th>\n",
       "      <td>10000</td>\n",
       "      <td>10000</td>\n",
       "      <td>36 months</td>\n",
       "      <td>13.49</td>\n",
       "      <td>339.31</td>\n",
       "      <td>C</td>\n",
       "      <td>C1</td>\n",
       "      <td>AIR RESOURCES BOARD</td>\n",
       "      <td>10.4</td>\n",
       "      <td>RENT</td>\n",
       "      <td>...</td>\n",
       "      <td>10</td>\n",
       "      <td>0</td>\n",
       "      <td>21.0</td>\n",
       "      <td>0.0</td>\n",
       "      <td>H</td>\n",
       "      <td>M</td>\n",
       "      <td>VH</td>\n",
       "      <td>L</td>\n",
       "      <td>M</td>\n",
       "      <td>Dec</td>\n",
       "    </tr>\n",
       "    <tr>\n",
       "      <th>4</th>\n",
       "      <td>5000</td>\n",
       "      <td>5000</td>\n",
       "      <td>36 months</td>\n",
       "      <td>7.90</td>\n",
       "      <td>156.46</td>\n",
       "      <td>A</td>\n",
       "      <td>A4</td>\n",
       "      <td>Veolia Transportaton</td>\n",
       "      <td>3.0</td>\n",
       "      <td>RENT</td>\n",
       "      <td>...</td>\n",
       "      <td>9</td>\n",
       "      <td>0</td>\n",
       "      <td>28.3</td>\n",
       "      <td>0.0</td>\n",
       "      <td>VL</td>\n",
       "      <td>VL</td>\n",
       "      <td>L</td>\n",
       "      <td>VL</td>\n",
       "      <td>M</td>\n",
       "      <td>Dec</td>\n",
       "    </tr>\n",
       "  </tbody>\n",
       "</table>\n",
       "<p>5 rows × 29 columns</p>\n",
       "</div>"
      ],
      "text/plain": [
       "   loan_amnt  funded_amnt        term  int_rate  installment grade sub_grade  \\\n",
       "0       5000         5000   36 months     10.65       162.87     B        B2   \n",
       "1       2500         2500   60 months     15.27        59.83     C        C4   \n",
       "2       2400         2400   36 months     15.96        84.33     C        C5   \n",
       "3      10000        10000   36 months     13.49       339.31     C        C1   \n",
       "4       5000         5000   36 months      7.90       156.46     A        A4   \n",
       "\n",
       "              emp_title  emp_length home_ownership  ...  open_acc pub_rec  \\\n",
       "0                   NaN        10.4           RENT  ...         3       0   \n",
       "1                 Ryder         0.6           RENT  ...         3       0   \n",
       "2                   NaN        10.4           RENT  ...         2       0   \n",
       "3   AIR RESOURCES BOARD        10.4           RENT  ...        10       0   \n",
       "4  Veolia Transportaton         3.0           RENT  ...         9       0   \n",
       "\n",
       "  revol_util pub_rec_bankruptcies int_slab loan_amnt_slab  dti_slab  \\\n",
       "0       83.7                  0.0        L             VL        VH   \n",
       "1        9.4                  0.0       VH             VL        VL   \n",
       "2       98.5                  0.0       VH             VL         L   \n",
       "3       21.0                  0.0        H              M        VH   \n",
       "4       28.3                  0.0       VL             VL         L   \n",
       "\n",
       "   annual_inc_slab  open_acc_slab  issue_month  \n",
       "0               VL             VL          Dec  \n",
       "1               VL             VL          Dec  \n",
       "2               VL             VL          Dec  \n",
       "3                L              M          Dec  \n",
       "4               VL              M          Dec  \n",
       "\n",
       "[5 rows x 29 columns]"
      ]
     },
     "execution_count": 33,
     "metadata": {},
     "output_type": "execute_result"
    }
   ],
   "source": [
    "loan.head()"
   ]
  },
  {
   "cell_type": "markdown",
   "metadata": {},
   "source": [
    "## 4. Data analysis"
   ]
  },
  {
   "cell_type": "markdown",
   "metadata": {},
   "source": [
    "**4.1 Analysis on loan_amnt**"
   ]
  },
  {
   "cell_type": "code",
   "execution_count": 34,
   "metadata": {},
   "outputs": [
    {
     "data": {
      "image/png": "[encoded data removed]",
      "text/plain": [
       "<Figure size 360x360 with 1 Axes>"
      ]
     },
     "metadata": {
      "needs_background": "light"
     },
     "output_type": "display_data"
    }
   ],
   "source": [
    "sns.displot(data = loan, x = 'loan_amnt', bins = 16 , kde = True)\n",
    "plt.title('Distribution of Loan Amount')\n",
    "plt.xlabel('Loan Amount')\n",
    "plt.show()"
   ]
  },
  {
   "cell_type": "code",
   "execution_count": 35,
   "metadata": {},
   "outputs": [
    {
     "data": {
      "text/plain": [
       "count    38577.000000\n",
       "mean     11047.025430\n",
       "std       7348.441646\n",
       "min        500.000000\n",
       "25%       5300.000000\n",
       "50%       9600.000000\n",
       "75%      15000.000000\n",
       "max      35000.000000\n",
       "Name: loan_amnt, dtype: float64"
      ]
     },
     "execution_count": 35,
     "metadata": {},
     "output_type": "execute_result"
    }
   ],
   "source": [
    "loan.loan_amnt.describe()"
   ]
  },
  {
   "cell_type": "markdown",
   "metadata": {},
   "source": [
    "50% loans are in the range of 5300 to 15000"
   ]
  },
  {
   "cell_type": "code",
   "execution_count": 36,
   "metadata": {},
   "outputs": [
    {
     "data": {
      "image/png": "[encoded data removed]",
      "text/plain": [
       "<Figure size 360x216 with 1 Axes>"
      ]
     },
     "metadata": {
      "needs_background": "light"
     },
     "output_type": "display_data"
    }
   ],
   "source": [
    "plt.figure(figsize = [5,3])\n",
    "sns.boxplot(y = loan.loan_status, x = loan.loan_amnt, palette = 'autumn',orient = 'h')\n",
    "plt.title('Distribution of Loan Amount VS Loan Status'.upper())\n",
    "plt.yticks(rotation = 45)\n",
    "plt.ylabel('Loan Status')\n",
    "plt.xlabel('Loan Amount')\n",
    "plt.show()"
   ]
  },
  {
   "cell_type": "markdown",
   "metadata": {},
   "source": [
    "**4.2 Analysis on loan_amnt_slab**"
   ]
  },
  {
   "cell_type": "code",
   "execution_count": 37,
   "metadata": {},
   "outputs": [
    {
     "data": {
      "text/html": [
       "<div>\n",
       "<style scoped>\n",
       "    .dataframe tbody tr th:only-of-type {\n",
       "        vertical-align: middle;\n",
       "    }\n",
       "\n",
       "    .dataframe tbody tr th {\n",
       "        vertical-align: top;\n",
       "    }\n",
       "\n",
       "    .dataframe thead th {\n",
       "        text-align: right;\n",
       "    }\n",
       "</style>\n",
       "<table border=\"1\" class=\"dataframe\">\n",
       "  <thead>\n",
       "    <tr style=\"text-align: right;\">\n",
       "      <th>loan_status</th>\n",
       "      <th>Charged Off</th>\n",
       "      <th>Fully Paid</th>\n",
       "    </tr>\n",
       "    <tr>\n",
       "      <th>loan_amnt_slab</th>\n",
       "      <th></th>\n",
       "      <th></th>\n",
       "    </tr>\n",
       "  </thead>\n",
       "  <tbody>\n",
       "    <tr>\n",
       "      <th>VL</th>\n",
       "      <td>0.138725</td>\n",
       "      <td>0.861275</td>\n",
       "    </tr>\n",
       "    <tr>\n",
       "      <th>L</th>\n",
       "      <td>0.123521</td>\n",
       "      <td>0.876479</td>\n",
       "    </tr>\n",
       "    <tr>\n",
       "      <th>M</th>\n",
       "      <td>0.131613</td>\n",
       "      <td>0.868387</td>\n",
       "    </tr>\n",
       "    <tr>\n",
       "      <th>H</th>\n",
       "      <td>0.145368</td>\n",
       "      <td>0.854632</td>\n",
       "    </tr>\n",
       "    <tr>\n",
       "      <th>VH</th>\n",
       "      <td>0.187624</td>\n",
       "      <td>0.812376</td>\n",
       "    </tr>\n",
       "  </tbody>\n",
       "</table>\n",
       "</div>"
      ],
      "text/plain": [
       "loan_status     Charged Off  Fully Paid\n",
       "loan_amnt_slab                         \n",
       "VL                 0.138725    0.861275\n",
       "L                  0.123521    0.876479\n",
       "M                  0.131613    0.868387\n",
       "H                  0.145368    0.854632\n",
       "VH                 0.187624    0.812376"
      ]
     },
     "execution_count": 37,
     "metadata": {},
     "output_type": "execute_result"
    }
   ],
   "source": [
    "loan_table = loan.groupby('loan_amnt_slab')['loan_status'].value_counts(normalize=True).unstack()\n",
    "loan_table"
   ]
  },
  {
   "cell_type": "code",
   "execution_count": 38,
   "metadata": {},
   "outputs": [
    {
     "data": {
      "image/png": "[encoded data removed]",
      "text/plain": [
       "<Figure size 576x360 with 1 Axes>"
      ]
     },
     "metadata": {
      "needs_background": "light"
     },
     "output_type": "display_data"
    }
   ],
   "source": [
    "loan_table.plot(kind = 'bar', stacked = True,figsize = [8,5])\n",
    "plt.legend(bbox_to_anchor = (1.05,1))\n",
    "plt.xticks(rotation = 0)\n",
    "plt.xlabel('Loan amount slab')\n",
    "plt.title('COMPARISION OF LOAN STATUS WITH LOAN AMOUNT')\n",
    "plt.yscale('log')\n",
    "plt.show()"
   ]
  },
  {
   "cell_type": "markdown",
   "metadata": {},
   "source": [
    "From above plots it is visible that, at higher loan amount slab customers are more likely to default"
   ]
  },
  {
   "cell_type": "markdown",
   "metadata": {},
   "source": [
    "**4.3 Analysis on grade**"
   ]
  },
  {
   "cell_type": "code",
   "execution_count": 39,
   "metadata": {},
   "outputs": [
    {
     "data": {
      "image/png": "[encoded data removed]",
      "text/plain": [
       "<Figure size 576x360 with 1 Axes>"
      ]
     },
     "metadata": {
      "needs_background": "light"
     },
     "output_type": "display_data"
    }
   ],
   "source": [
    "loan.groupby('grade')['loan_status'].value_counts(normalize=True).unstack().plot(kind = 'bar', stacked = True,figsize = [8,5])\n",
    "plt.legend(bbox_to_anchor = (1.05,1))\n",
    "plt.xticks(rotation = 0)\n",
    "plt.xlabel('Grade')\n",
    "plt.title('COMPARISION OF LOAN STATUS WITH GRADES')\n",
    "plt.show()"
   ]
  },
  {
   "cell_type": "markdown",
   "metadata": {},
   "source": [
    "From the above plot charged off percentages increases with grade.<br>\n",
    "**Conclusion :** There are less chances to get charged off for grade A & It increases from grade A to G"
   ]
  },
  {
   "cell_type": "markdown",
   "metadata": {},
   "source": [
    "**4.4 Analysis on sub_grade**"
   ]
  },
  {
   "cell_type": "code",
   "execution_count": 40,
   "metadata": {},
   "outputs": [
    {
     "data": {
      "image/png": "[encoded data removed]",
      "text/plain": [
       "<Figure size 1080x360 with 1 Axes>"
      ]
     },
     "metadata": {
      "needs_background": "light"
     },
     "output_type": "display_data"
    }
   ],
   "source": [
    "loan.groupby('sub_grade')['loan_status'].value_counts(normalize=True).unstack().plot(kind = 'bar', stacked = True,figsize = [15,5])\n",
    "plt.legend(bbox_to_anchor = (1,1))\n",
    "plt.xticks(rotation = 0)\n",
    "plt.xlabel('Sub Grade')\n",
    "plt.title('COMPARISION OF LOAN STATUS WITH SUB GRADES')\n",
    "plt.show()"
   ]
  },
  {
   "cell_type": "markdown",
   "metadata": {},
   "source": [
    "From the above plot charged off percentages increases at higher sub_grade.<br>\n",
    "**Conclusion :** Higher sub_grades customers are ‘risky’ applicants"
   ]
  },
  {
   "cell_type": "markdown",
   "metadata": {},
   "source": [
    "**4.5 Analysis on home_ownership**"
   ]
  },
  {
   "cell_type": "code",
   "execution_count": 41,
   "metadata": {},
   "outputs": [
    {
     "data": {
      "text/plain": [
       "Text(0, 0.5, 'Home Ownership')"
      ]
     },
     "execution_count": 41,
     "metadata": {},
     "output_type": "execute_result"
    },
    {
     "data": {
      "image/png": "[encoded data removed]",
      "text/plain": [
       "<Figure size 432x288 with 1 Axes>"
      ]
     },
     "metadata": {
      "needs_background": "light"
     },
     "output_type": "display_data"
    }
   ],
   "source": [
    "loan.home_ownership.value_counts().plot(kind = 'barh')\n",
    "plt.title('DISTRIBUTION OF HOME OWNERSHIP')\n",
    "plt.ylabel('Home Ownership')"
   ]
  },
  {
   "cell_type": "markdown",
   "metadata": {},
   "source": [
    "From the above plot most of the loan applicant having home ownership as rent or Mortage.<br>"
   ]
  },
  {
   "cell_type": "code",
   "execution_count": 42,
   "metadata": {},
   "outputs": [
    {
     "data": {
      "image/png": "[encoded data removed]",
      "text/plain": [
       "<Figure size 576x360 with 1 Axes>"
      ]
     },
     "metadata": {
      "needs_background": "light"
     },
     "output_type": "display_data"
    }
   ],
   "source": [
    "loan.groupby('home_ownership')['loan_status'].value_counts(normalize=True).unstack().plot(kind = 'bar', stacked = True,figsize = [8,5])\n",
    "plt.legend(bbox_to_anchor = (1.05,1))\n",
    "plt.xticks(rotation = 0)\n",
    "plt.title('COMPARISION OF LOAN STATUS WITH HOUSE OWNERSHIP')\n",
    "plt.xlabel('House Ownership')\n",
    "plt.show()"
   ]
  },
  {
   "cell_type": "markdown",
   "metadata": {},
   "source": [
    "From above plot we can see there is no much variation of percentage in charged off. So house ownership parametr is not good parametr to decide weather the borower can be defaulter."
   ]
  },
  {
   "cell_type": "markdown",
   "metadata": {},
   "source": [
    "**4.6 Analysis on purpose of loan**"
   ]
  },
  {
   "cell_type": "code",
   "execution_count": 43,
   "metadata": {},
   "outputs": [
    {
     "data": {
      "image/png": "[encoded data removed]",
      "text/plain": [
       "<Figure size 432x288 with 1 Axes>"
      ]
     },
     "metadata": {
      "needs_background": "light"
     },
     "output_type": "display_data"
    }
   ],
   "source": [
    "loan.purpose.value_counts().plot(kind = 'bar')\n",
    "plt.title('DISTRIBUTION OF LOAN PURPOSE')\n",
    "plt.xlabel('Purpose')\n",
    "plt.show()"
   ]
  },
  {
   "cell_type": "markdown",
   "metadata": {},
   "source": [
    "The above plot says most of the loans are for the purpose of debt consolidation"
   ]
  },
  {
   "cell_type": "code",
   "execution_count": 44,
   "metadata": {},
   "outputs": [
    {
     "data": {
      "image/png": "[encoded data removed]",
      "text/plain": [
       "<Figure size 504x648 with 1 Axes>"
      ]
     },
     "metadata": {
      "needs_background": "light"
     },
     "output_type": "display_data"
    }
   ],
   "source": [
    "loan.groupby('purpose')['loan_status'].value_counts(normalize=True).unstack().plot(kind = 'barh', stacked = True,figsize = [7,9])\n",
    "plt.legend(bbox_to_anchor = (1.05,1))\n",
    "plt.xticks(rotation = 0)\n",
    "plt.ylabel('Purpose')\n",
    "plt.title('COMPARISION OF LOAN STATUS WITH PURPOSE')\n",
    "plt.show()"
   ]
  },
  {
   "cell_type": "markdown",
   "metadata": {},
   "source": [
    "From above 2 plots we can see that , small_business owner are the highest defaulter <br>\n",
    "Also loan applicant under `renewable energy` are less in no but are defaulting more "
   ]
  },
  {
   "cell_type": "markdown",
   "metadata": {},
   "source": [
    "**4.7 Analysis on verification_status of loan**"
   ]
  },
  {
   "cell_type": "code",
   "execution_count": 45,
   "metadata": {},
   "outputs": [
    {
     "data": {
      "text/plain": [
       "Not Verified       43.27\n",
       "Verified           31.64\n",
       "Source Verified    25.08\n",
       "Name: verification_status, dtype: float64"
      ]
     },
     "execution_count": 45,
     "metadata": {},
     "output_type": "execute_result"
    }
   ],
   "source": [
    "#percentage of verification status\n",
    "round(loan.verification_status.value_counts(normalize=True)*100,2)"
   ]
  },
  {
   "cell_type": "code",
   "execution_count": 46,
   "metadata": {},
   "outputs": [
    {
     "data": {
      "image/png": "[encoded data removed]",
      "text/plain": [
       "<Figure size 432x288 with 1 Axes>"
      ]
     },
     "metadata": {
      "needs_background": "light"
     },
     "output_type": "display_data"
    }
   ],
   "source": [
    "loan.verification_status.value_counts().plot(kind = 'barh')\n",
    "plt.ylabel('Verification Status')\n",
    "plt.xlabel('Count')\n",
    "plt.title('DISTRIBUTION OF VERIFICATION STATUS')\n",
    "plt.show()"
   ]
  },
  {
   "cell_type": "markdown",
   "metadata": {},
   "source": [
    "43% Applicants are not verified."
   ]
  },
  {
   "cell_type": "code",
   "execution_count": 47,
   "metadata": {},
   "outputs": [
    {
     "data": {
      "image/png": "[encoded data removed]",
      "text/plain": [
       "<Figure size 432x288 with 1 Axes>"
      ]
     },
     "metadata": {
      "needs_background": "light"
     },
     "output_type": "display_data"
    }
   ],
   "source": [
    "status_table = loan.groupby('verification_status')['loan_status'].value_counts(normalize=True).unstack().plot(kind = 'bar', stacked = True)\n",
    "plt.legend(bbox_to_anchor = (1.05,1))\n",
    "plt.xticks(rotation = 0)\n",
    "plt.xlabel('Status')\n",
    "plt.title('COMPARISION OF VERIFICATION STATUS WITH LOAN STATUS')\n",
    "plt.show()\n"
   ]
  },
  {
   "cell_type": "markdown",
   "metadata": {},
   "source": [
    "verification_status is not good parameter to conclude whether the customer is risky applicant and there is no much veriation between source verified and verified"
   ]
  },
  {
   "cell_type": "markdown",
   "metadata": {},
   "source": [
    "**4.8 Analysis on interest rates**"
   ]
  },
  {
   "cell_type": "code",
   "execution_count": 48,
   "metadata": {},
   "outputs": [
    {
     "data": {
      "image/png": "[encoded data removed]",
      "text/plain": [
       "<Figure size 432x288 with 1 Axes>"
      ]
     },
     "metadata": {
      "needs_background": "light"
     },
     "output_type": "display_data"
    }
   ],
   "source": [
    "#distribution of intrets rates\n",
    "sns.violinplot(x = loan.int_rate)\n",
    "plt.title('DISTRIBUTION OF Interest Rate on the loan'.upper())\n",
    "plt.xlabel('Interest Rate on the loan')\n",
    "plt.show()"
   ]
  },
  {
   "cell_type": "code",
   "execution_count": 49,
   "metadata": {},
   "outputs": [
    {
     "data": {
      "image/png": "[encoded data removed]",
      "text/plain": [
       "<Figure size 432x288 with 1 Axes>"
      ]
     },
     "metadata": {
      "needs_background": "light"
     },
     "output_type": "display_data"
    }
   ],
   "source": [
    "loan.groupby('int_slab')['loan_status'].value_counts(normalize=True).unstack().plot(kind = 'barh', stacked = True)\n",
    "plt.legend(bbox_to_anchor = (1.05,1))\n",
    "plt.xticks(rotation = 0)\n",
    "plt.ylabel('Interest Rate on the loan')\n",
    "plt.title('COMPARISION OF LOAN STATUS WITH INTEREST RATES')\n",
    "plt.show()"
   ]
  },
  {
   "cell_type": "markdown",
   "metadata": {},
   "source": [
    "Lowest intrest slab are less likely to charged off & it increses uniformly till highest interest slab"
   ]
  },
  {
   "cell_type": "code",
   "execution_count": 50,
   "metadata": {},
   "outputs": [
    {
     "data": {
      "image/png": "[encoded data removed]",
      "text/plain": [
       "<Figure size 432x432 with 1 Axes>"
      ]
     },
     "metadata": {
      "needs_background": "light"
     },
     "output_type": "display_data"
    }
   ],
   "source": [
    "plt.figure(figsize = [6,6])\n",
    "sns.boxplot(x = loan.loan_status, y = loan.int_rate, palette = 'cubehelix')\n",
    "plt.xlabel('Loan Status')\n",
    "plt.ylabel('Interest Rate')\n",
    "plt.title('DISTRIBUTION OF INTEREST RATES WITH GRADES')\n",
    "plt.show()"
   ]
  },
  {
   "cell_type": "markdown",
   "metadata": {},
   "source": [
    "From the above plot default rate increses with interest rates.<br>\n",
    "**Conclusion :** Higher the intrest rate higher the chance of charged off"
   ]
  },
  {
   "cell_type": "markdown",
   "metadata": {},
   "source": [
    "**4.9 Analysis on dti**"
   ]
  },
  {
   "cell_type": "code",
   "execution_count": 51,
   "metadata": {},
   "outputs": [
    {
     "data": {
      "image/png": "[encoded data removed]",
      "text/plain": [
       "<Figure size 432x144 with 1 Axes>"
      ]
     },
     "metadata": {
      "needs_background": "light"
     },
     "output_type": "display_data"
    }
   ],
   "source": [
    "plt.figure(figsize = [6,2])\n",
    "sns.boxplot(x = loan.dti)\n",
    "plt.title('Distribution of debt to income ratio'.upper())\n",
    "plt.xlabel('Debt/Income')\n",
    "plt.show()"
   ]
  },
  {
   "cell_type": "code",
   "execution_count": 52,
   "metadata": {},
   "outputs": [
    {
     "data": {
      "image/png": "[encoded data removed]",
      "text/plain": [
       "<Figure size 360x216 with 1 Axes>"
      ]
     },
     "metadata": {
      "needs_background": "light"
     },
     "output_type": "display_data"
    }
   ],
   "source": [
    "plt.figure(figsize = [5,3])\n",
    "sns.boxplot(y = loan.loan_status, x = loan.dti, palette = 'autumn')\n",
    "plt.title('DISTRIBUTION OF LOAN STATUS WITH DEBT TO INCOME RATIO')\n",
    "plt.ylabel('Loan Status')\n",
    "plt.xlabel('DEBT TO INCOME RATIO')\n",
    "plt.show()"
   ]
  },
  {
   "cell_type": "code",
   "execution_count": 53,
   "metadata": {},
   "outputs": [
    {
     "data": {
      "image/png": "[encoded data removed]",
      "text/plain": [
       "<Figure size 576x360 with 1 Axes>"
      ]
     },
     "metadata": {
      "needs_background": "light"
     },
     "output_type": "display_data"
    }
   ],
   "source": [
    "loan.groupby('dti_slab')['loan_status'].value_counts(normalize=True).unstack().plot(kind = 'bar', stacked = True, figsize = [8,5])\n",
    "plt.legend(bbox_to_anchor = (1.05,1))\n",
    "plt.xticks(rotation = 0)\n",
    "plt.xlabel('DEBT TO INCOME RATIO')\n",
    "plt.yscale('log')\n",
    "plt.title('COMPARISION OF LOAN STATUS WITH DEBT TO INCOME RATIO')\n",
    "plt.show()"
   ]
  },
  {
   "cell_type": "markdown",
   "metadata": {},
   "source": [
    "Above plot shows higher default rate increses at higher dti slab.<br>\n",
    "**Conclusion :** Higher the dti rate higher the chance of charged off"
   ]
  },
  {
   "cell_type": "markdown",
   "metadata": {},
   "source": [
    "**4.10 Analysis of anual_inc**"
   ]
  },
  {
   "cell_type": "code",
   "execution_count": 54,
   "metadata": {},
   "outputs": [
    {
     "data": {
      "image/png": "[encoded data removed]",
      "text/plain": [
       "<Figure size 216x360 with 1 Axes>"
      ]
     },
     "metadata": {
      "needs_background": "light"
     },
     "output_type": "display_data"
    }
   ],
   "source": [
    "plt.figure(figsize = [3,5])\n",
    "sns.boxplot(x = loan.loan_status, y = loan.annual_inc, palette = 'autumn')\n",
    "plt.yscale('log')\n",
    "plt.ylabel('Annual Income')\n",
    "plt.xlabel('Loan Status')\n",
    "plt.show()"
   ]
  },
  {
   "cell_type": "code",
   "execution_count": 55,
   "metadata": {},
   "outputs": [
    {
     "data": {
      "image/png": "[encoded data removed]",
      "text/plain": [
       "<Figure size 432x288 with 1 Axes>"
      ]
     },
     "metadata": {
      "needs_background": "light"
     },
     "output_type": "display_data"
    }
   ],
   "source": [
    "loan.groupby('annual_inc_slab')['loan_status'].value_counts(normalize=True).unstack().plot(kind = 'bar', stacked = True,figsize = [6,4])\n",
    "plt.legend(bbox_to_anchor = (1.05,1))\n",
    "plt.xticks(rotation = 0)\n",
    "plt.xlabel('Annual Income')\n",
    "plt.yscale('log')\n",
    "plt.title('COMPARISION OF ANNUAL INCOME WITH LOAN STATUS')\n",
    "plt.show()"
   ]
  },
  {
   "cell_type": "markdown",
   "metadata": {},
   "source": [
    "Above plot shows people with higher income default less."
   ]
  },
  {
   "cell_type": "markdown",
   "metadata": {},
   "source": [
    "**4.11 Analysis of open_acc**"
   ]
  },
  {
   "cell_type": "code",
   "execution_count": 56,
   "metadata": {},
   "outputs": [
    {
     "data": {
      "image/png": "[encoded data removed]",
      "text/plain": [
       "<Figure size 576x360 with 1 Axes>"
      ]
     },
     "metadata": {
      "needs_background": "light"
     },
     "output_type": "display_data"
    }
   ],
   "source": [
    "loan.groupby('open_acc_slab')['loan_status'].value_counts(normalize=True).unstack().plot(kind = 'bar', stacked = True,figsize = [8,5])\n",
    "plt.legend(bbox_to_anchor = (1.05,1))\n",
    "plt.xticks(rotation = 0)\n",
    "plt.xlabel('open_acc')\n",
    "plt.title('COMPARISION OF OPEN_ACC WITH LOAN STATUS')\n",
    "plt.show()"
   ]
  },
  {
   "cell_type": "markdown",
   "metadata": {},
   "source": [
    "No pattern observed for open credit lines "
   ]
  },
  {
   "cell_type": "markdown",
   "metadata": {},
   "source": [
    "**4.12 Analysis of pub_rec**"
   ]
  },
  {
   "cell_type": "code",
   "execution_count": 57,
   "metadata": {},
   "outputs": [
    {
     "data": {
      "image/png": "[encoded data removed]",
      "text/plain": [
       "<Figure size 576x360 with 1 Axes>"
      ]
     },
     "metadata": {
      "needs_background": "light"
     },
     "output_type": "display_data"
    }
   ],
   "source": [
    "loan.groupby('pub_rec')['loan_status'].value_counts(normalize=True).unstack().plot(kind = 'bar', stacked = True,figsize = [8,5])\n",
    "plt.legend(bbox_to_anchor = (1.05,1))\n",
    "plt.xticks(rotation = 0)\n",
    "plt.xlabel('pub_rec')\n",
    "plt.title('COMPARISION OF PUB_REC WITH LOAN STATUS')\n",
    "plt.show()"
   ]
  },
  {
   "cell_type": "markdown",
   "metadata": {},
   "source": [
    " No pattern observed for derogatory public records"
   ]
  },
  {
   "cell_type": "markdown",
   "metadata": {},
   "source": [
    "**4.13 Analysis of emp_length**"
   ]
  },
  {
   "cell_type": "code",
   "execution_count": 58,
   "metadata": {},
   "outputs": [
    {
     "data": {
      "image/png": "[encoded data removed]",
      "text/plain": [
       "<Figure size 720x360 with 1 Axes>"
      ]
     },
     "metadata": {
      "needs_background": "light"
     },
     "output_type": "display_data"
    }
   ],
   "source": [
    "loan.groupby('emp_length')['loan_status'].value_counts(normalize=True).unstack().plot(kind = 'bar', stacked = True,figsize = [10,5])\n",
    "plt.legend(bbox_to_anchor = (1.05,1))\n",
    "plt.xticks(rotation = 0)\n",
    "plt.xlabel('Employment Length')\n",
    "plt.yscale('log')\n",
    "plt.title('COMPARISION OF LOAN STATUS WITH LOAN EMPLOYEMENT LENGTH')\n",
    "plt.show()"
   ]
  },
  {
   "cell_type": "markdown",
   "metadata": {},
   "source": [
    "No fix pattern observed for emp_length "
   ]
  },
  {
   "cell_type": "markdown",
   "metadata": {},
   "source": [
    "**4.14 Analysis of loan issue_month**"
   ]
  },
  {
   "cell_type": "code",
   "execution_count": 59,
   "metadata": {},
   "outputs": [
    {
     "data": {
      "image/png": "[encoded data removed]",
      "text/plain": [
       "<Figure size 720x360 with 1 Axes>"
      ]
     },
     "metadata": {
      "needs_background": "light"
     },
     "output_type": "display_data"
    }
   ],
   "source": [
    "loan.groupby('issue_month')['loan_status'].value_counts(normalize=True).unstack().plot(kind = 'bar', stacked = True,figsize = [10,5])\n",
    "plt.legend(bbox_to_anchor = (1.05,1))\n",
    "plt.xticks(rotation = 0)\n",
    "plt.yscale('log')\n",
    "plt.xlabel('Issue Month')\n",
    "plt.title('COMPARISION OF LOAN STATUS WITH LOAN ISSUE MONTH')\n",
    "plt.show()"
   ]
  },
  {
   "cell_type": "markdown",
   "metadata": {},
   "source": [
    "Percentage of charged off is low if the loan is issued in 1st quater of the year compared to 3rd and 4th quaters."
   ]
  },
  {
   "cell_type": "markdown",
   "metadata": {},
   "source": [
    "**4.16 Analysis on addr_state**"
   ]
  },
  {
   "cell_type": "code",
   "execution_count": 75,
   "metadata": {},
   "outputs": [
    {
     "data": {
      "text/html": [
       "<div>\n",
       "<style scoped>\n",
       "    .dataframe tbody tr th:only-of-type {\n",
       "        vertical-align: middle;\n",
       "    }\n",
       "\n",
       "    .dataframe tbody tr th {\n",
       "        vertical-align: top;\n",
       "    }\n",
       "\n",
       "    .dataframe thead th {\n",
       "        text-align: right;\n",
       "    }\n",
       "</style>\n",
       "<table border=\"1\" class=\"dataframe\">\n",
       "  <thead>\n",
       "    <tr style=\"text-align: right;\">\n",
       "      <th>loan_status</th>\n",
       "      <th>Charged Off</th>\n",
       "      <th>Fully Paid</th>\n",
       "    </tr>\n",
       "    <tr>\n",
       "      <th>addr_state</th>\n",
       "      <th></th>\n",
       "      <th></th>\n",
       "    </tr>\n",
       "  </thead>\n",
       "  <tbody>\n",
       "    <tr>\n",
       "      <th>NE</th>\n",
       "      <td>0.600000</td>\n",
       "      <td>0.400000</td>\n",
       "    </tr>\n",
       "    <tr>\n",
       "      <th>NV</th>\n",
       "      <td>0.225470</td>\n",
       "      <td>0.774530</td>\n",
       "    </tr>\n",
       "    <tr>\n",
       "      <th>SD</th>\n",
       "      <td>0.193548</td>\n",
       "      <td>0.806452</td>\n",
       "    </tr>\n",
       "    <tr>\n",
       "      <th>AK</th>\n",
       "      <td>0.192308</td>\n",
       "      <td>0.807692</td>\n",
       "    </tr>\n",
       "    <tr>\n",
       "      <th>FL</th>\n",
       "      <td>0.181230</td>\n",
       "      <td>0.818770</td>\n",
       "    </tr>\n",
       "  </tbody>\n",
       "</table>\n",
       "</div>"
      ],
      "text/plain": [
       "loan_status  Charged Off  Fully Paid\n",
       "addr_state                          \n",
       "NE              0.600000    0.400000\n",
       "NV              0.225470    0.774530\n",
       "SD              0.193548    0.806452\n",
       "AK              0.192308    0.807692\n",
       "FL              0.181230    0.818770"
      ]
     },
     "execution_count": 75,
     "metadata": {},
     "output_type": "execute_result"
    }
   ],
   "source": [
    "loan.groupby('addr_state')['loan_status'].value_counts(normalize=True).unstack().sort_values('Charged Off',ascending = False).head(5)"
   ]
  },
  {
   "cell_type": "code",
   "execution_count": 76,
   "metadata": {},
   "outputs": [
    {
     "data": {
      "image/png": "[encoded data removed]",
      "text/plain": [
       "<Figure size 1296x360 with 1 Axes>"
      ]
     },
     "metadata": {
      "needs_background": "light"
     },
     "output_type": "display_data"
    }
   ],
   "source": [
    "loan.groupby('addr_state')['loan_status'].value_counts(normalize=True).unstack().plot(kind = 'bar', stacked = True,figsize = [18,5])\n",
    "plt.legend(bbox_to_anchor = (1,1))\n",
    "plt.xticks(rotation = 0)\n",
    "plt.xlabel('STATE')\n",
    "plt.title('COMPARISION OF STATE WITH LOAN STATUS')\n",
    "plt.show()"
   ]
  },
  {
   "cell_type": "markdown",
   "metadata": {},
   "source": [
    "If the applican is from NE state then there is higher chances of getting defaulted.<br>\n",
    "Top 3 States with higher chances of getting charged off<br>\n",
    "1. NE - NEBRASKA\n",
    "2. NV - NEVADA\n",
    "3. SD - SOUTH DAKOTA"
   ]
  },
  {
   "cell_type": "markdown",
   "metadata": {},
   "source": [
    "## 5. Conclusions "
   ]
  },
  {
   "cell_type": "markdown",
   "metadata": {},
   "source": [
    "* 50% customers apply loans in the range of 5300 to 15000 & most of them have rented or Mortage home."
   ]
  },
  {
   "cell_type": "markdown",
   "metadata": {},
   "source": [
    "  * **Risky analysis**\n",
    "    1. Lower loan amount customers are less likely to charged off & it increses with increses in amount.\n",
    "    2. There are less chances to get charged off for grade A & It increases from grade A to G.\n",
    "    3. There are less chances to get charged off for lower subgrade A1 & It increases uniformly from grade A1 to G5.\n",
    "    4. Small_business owner are the highest defaulter\n",
    "    5. loan applicant under renewable energy are less in no but are highest defaulter\n",
    "    6. Lowest intrest slab are less likely to charged off & it increses uniformly till highest interest slab.\n",
    "    7. Lowest dti slab are less likely to charged off & it increses uniformly till highest dti slab.\n",
    "    8. There are less chances to get charged off for higher income group & it increases as income reduces.<br>\n",
    "    9. Percentage of charged off is low if the loan is issued in 1st quater of the year compared to 3rd and 4th quaters.\n",
    "    10. If the applican is from NE state then there is higher chances of getting defaulted.<br>\n",
    "        Top 3 States with higher chances of getting charged off<br>\n",
    "        * NE - NEBRASKA\n",
    "        * NV - NEVADA\n",
    "        * SD - SOUTH DAKOTA\n"
   ]
  },
  {
   "cell_type": "markdown",
   "metadata": {},
   "source": [
    "* **Below parameters dont follow any pattern to conclude whether the customer is risky applicant**<Br>\n",
    "     1. Open credit lines <br>\n",
    "     2. Derogatory public records <br>\n",
    "     3. Employement years <br>\n",
    "     4. House ownership <br>\n",
    "     5. Verification_status <br>\n"
   ]
  }
 ],
 "metadata": {
  "kernelspec": {
   "display_name": "Python 3",
   "language": "python",
   "name": "python3"
  },
  "language_info": {
   "codemirror_mode": {
    "name": "ipython",
    "version": 3
   },
   "file_extension": ".py",
   "mimetype": "text/x-python",
   "name": "python",
   "nbconvert_exporter": "python",
   "pygments_lexer": "ipython3",
   "version": "3.7.3"
  }
 },
 "nbformat": 4,
 "nbformat_minor": 2
}
